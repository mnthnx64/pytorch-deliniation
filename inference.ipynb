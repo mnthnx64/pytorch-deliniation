{
 "cells": [
  {
   "cell_type": "code",
   "execution_count": 1,
   "metadata": {},
   "outputs": [
    {
     "name": "stderr",
     "output_type": "stream",
     "text": [
      "usage: ipykernel_launcher.py [-h] [--model MODEL] [--model_path MODEL_PATH]\n",
      "                             [--input_path INPUT_PATH]\n",
      "ipykernel_launcher.py: error: unrecognized arguments: --f=/home/mcsatish/.local/share/jupyter/runtime/kernel-v2-233044hQNmqXpTDtqz.json\n"
     ]
    },
    {
     "ename": "SystemExit",
     "evalue": "2",
     "output_type": "error",
     "traceback": [
      "An exception has occurred, use %tb to see the full traceback.\n",
      "\u001b[0;31mSystemExit\u001b[0m\u001b[0;31m:\u001b[0m 2\n"
     ]
    },
    {
     "name": "stderr",
     "output_type": "stream",
     "text": [
      "/home/mcsatish/.conda/envs/sam/lib/python3.9/site-packages/IPython/core/interactiveshell.py:3513: UserWarning: To exit: use 'exit', 'quit', or Ctrl-D.\n",
      "  warn(\"To exit: use 'exit', 'quit', or Ctrl-D.\", stacklevel=1)\n"
     ]
    }
   ],
   "source": [
    "\"\"\"Inference script for the UNetResNet50_X model.\"\"\"\n",
    "from models.unet_models import UNetResNet50_9, UNetResNet50_3\n",
    "import torch\n",
    "import numpy as np\n",
    "import os\n",
    "import argparse\n",
    "import matplotlib.pyplot as plt\n",
    "from PIL import Image\n",
    "\n",
    "parser = argparse.ArgumentParser(description='Inference script for the UNetResNet50_X model.')\n",
    "parser.add_argument('--model', type=str, default='3', help='Number of season\\'s images to use (1 or 3)')\n",
    "parser.add_argument('--model_path', type=str, default='checkpoints/UNetResNet50_9.pt', help='Path to model weights')\n",
    "parser.add_argument('--input_path', type=str, default='test_data/', help='Path to input images')\n",
    "\n",
    "args = parser.parse_args()"
   ]
  },
  {
   "cell_type": "code",
   "execution_count": null,
   "metadata": {},
   "outputs": [],
   "source": [
    "\n",
    "# Load model\n",
    "if args.model == '3':\n",
    "    model = UNetResNet50_9()\n",
    "elif args.model == '1':\n",
    "    model = UNetResNet50_3()\n",
    "else:\n",
    "    raise ValueError('Model must be 1 or 3')\n",
    "\n",
    "try:\n",
    "    model.load_state_dict(torch.load(args.model_path))\n",
    "except FileNotFoundError:\n",
    "    print('Model not found. Please check the path to the model weights.')\n",
    "    # exit(1)\n",
    "\n",
    "# Load input images\n",
    "images = np.array([])\n",
    "for filename in os.listdir(args.input_path):\n",
    "    if filename.endswith('.jpeg'):\n",
    "        img = Image.open(os.path.join(args.input_path, filename))\n",
    "        img = np.array(img)\n",
    "        img = np.transpose(img, (2, 0, 1))\n",
    "        if images.size == 0:\n",
    "            images = img\n",
    "        else:\n",
    "            images = np.concatenate((images, img), axis=0)\n",
    "\n",
    "# Convert to tensor\n",
    "input_tensor = torch.from_numpy(images).float().unsqueeze(0)\n",
    "\n",
    "# Perform inference\n",
    "model.eval()\n",
    "with torch.no_grad():\n",
    "    output = model(input_tensor)\n",
    "    output = torch.sigmoid(output)\n",
    "    output = output.squeeze(0).squeeze(0).numpy()"
   ]
  }
 ],
 "metadata": {
  "kernelspec": {
   "display_name": "pd",
   "language": "python",
   "name": "python3"
  },
  "language_info": {
   "codemirror_mode": {
    "name": "ipython",
    "version": 3
   },
   "file_extension": ".py",
   "mimetype": "text/x-python",
   "name": "python",
   "nbconvert_exporter": "python",
   "pygments_lexer": "ipython3",
   "version": "3.9.16"
  },
  "orig_nbformat": 4
 },
 "nbformat": 4,
 "nbformat_minor": 2
}
